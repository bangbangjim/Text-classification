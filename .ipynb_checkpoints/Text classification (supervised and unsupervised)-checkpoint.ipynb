{
 "cells": [
  {
   "cell_type": "markdown",
   "metadata": {},
   "source": [
    "In here I have tried to classify the categories of each text in the fetch_20newsgroups dataset belongs to. \n",
    "A simple Td-idf were initially used as the text representation. In the end, text vector derived from GloVE vectors were explored and used for both supervised and unsupervised classification."
   ]
  },
  {
   "cell_type": "code",
   "execution_count": 4,
   "metadata": {},
   "outputs": [],
   "source": [
    "from sklearn.datasets import fetch_20newsgroups\n",
    "from sklearn.feature_extraction.text import TfidfVectorizer\n",
    "from sklearn.naive_bayes import MultinomialNB, GaussianNB\n",
    "from sklearn.pipeline import Pipeline\n",
    "from sklearn.preprocessing import FunctionTransformer\n",
    "from sklearn.linear_model import SGDClassifier\n",
    "from sklearn.model_selection import GridSearchCV\n",
    "from sklearn.cluster import KMeans\n",
    "from sklearn.model_selection import train_test_split\n",
    "import numpy as np\n",
    "import matplotlib as plt"
   ]
  },
  {
   "cell_type": "markdown",
   "metadata": {
    "scrolled": true
   },
   "source": [
    "The dataset that is being used is the fetch_20newsgroups that can be imported from the sk-learn library. It contains around 18000 pieces of labelled text which are categorised into 20 classes. Note that it can be downloaded as training and testing subset, but the ratio between them would be 6:4. I decided to manually split the data into train test set as I want to keep the ratio at 8:2.\n",
    "\n",
    "\n",
    "The headers, footers and quotes usually gives out a lot of hint regarding the categories the text belongs to and therefore resulting is a really high accuracy rate. However, I am more interested in developing a model to predict classes based just on the text body, and therefore the headers, footers and quotes are removed from each data.\n"
   ]
  },
  {
   "cell_type": "code",
   "execution_count": 122,
   "metadata": {},
   "outputs": [],
   "source": [
    "# train_set = fetch_20newsgroups(subset = \"train\", shuffle = True, remove = (\"headers\", \"footers\", \"quotes\"))\n",
    "# test_set = fetch_20newsgroups(subset = \"test\", shuffle = True, remove = (\"headers\", \"footers\", \"quotes\"))\n",
    "\n",
    "data_set = fetch_20newsgroups(subset = \"all\", shuffle = True, remove = (\"headers\", \"footers\", \"quotes\"))"
   ]
  },
  {
   "cell_type": "markdown",
   "metadata": {},
   "source": [
    "First let's do a simple analysis on the training set."
   ]
  },
  {
   "cell_type": "code",
   "execution_count": 126,
   "metadata": {},
   "outputs": [
    {
     "name": "stdout",
     "output_type": "stream",
     "text": [
      "num of text: 18846\n",
      "text length statistics\n",
      "min: 0\n",
      "max: 158791\n",
      "mean: 1169.667515653189\n",
      "number of text with no characters: 380\n"
     ]
    },
    {
     "data": {
      "image/png": "[encoded data removed]",
      "text/plain": [
       "<Figure size 432x288 with 1 Axes>"
      ]
     },
     "metadata": {},
     "output_type": "display_data"
    }
   ],
   "source": [
    "import matplotlib.pyplot as plt\n",
    "from collections import Counter\n",
    "\n",
    "\n",
    "len_text = [len(text) for text in data_set.data]\n",
    "print (\"num of text: \" + str(len(data_set.data)))\n",
    "print (\"text length statistics\")\n",
    "print (\"min: \" + str(min(len_text)))\n",
    "print (\"max: \" + str(max(len_text)))\n",
    "print (\"mean: \" + str(np.mean(len_text)))\n",
    "\n",
    "print (\"number of text with no characters: \" + str(np.sum([1 for i in len_text if i == 0])))\n",
    "assert data_set.data[len_text.index(0)] == \"\" # confirm it's empty\n",
    "\n",
    "\n",
    "\n",
    "count = Counter(data_set.target)\n",
    "index = [i[0] for i in count.items()]\n",
    "n_target = [i[1] for i in count.items()]\n",
    "\n",
    "plt.figure()\n",
    "#bar_width = 0.2\n",
    "rect1 = plt.bar(index, n_target)\n",
    "plt.ylim(0,2000)\n",
    "plt.title(\"label distribution\")\n",
    "plt.xlabel(\"label\")\n",
    "plt.xticks(np.arange(20), [i for i in range(20)])\n",
    "plt.ylabel(\"occurrence count\")\n",
    "plt.show()\n",
    "\n"
   ]
  },
  {
   "cell_type": "markdown",
   "metadata": {},
   "source": [
    "Label is fairly evenly distributed.\n",
    "\n",
    "It can be seen that there are plenty of training example where the data is an empty string, and these needs to be removed. In fact, I am going to remove all text with less than 50 characters. Despite some of the good training example might be removed, it also ensures that the majority of the useless training example are gone. The data is then split into train-test set."
   ]
  },
  {
   "cell_type": "code",
   "execution_count": 100,
   "metadata": {},
   "outputs": [
    {
     "name": "stdout",
     "output_type": "stream",
     "text": [
      "Some example of text with 50 characters: \n",
      "\n",
      "I didn't know God was a secular humanist...\n",
      "\n",
      "Kent\n",
      "\n",
      "Now, now, before we get too carried away here....\n",
      "\n",
      "Jews won't agree with you, Malcolm.\n",
      "\n",
      "Cheers,\n",
      "Kent\n",
      "\n",
      "And Noemi makes me think of \"cuddle\", not \"KotL\".\n",
      "\n",
      "nz\tNew Zealand\n",
      "au\tAustralia\n",
      "jp\tJapan\n",
      "kr\tKorea\n",
      "-- \n",
      "The xgolf program was an April Fool's joke <sigh>.\n",
      "\n",
      "How generous Andi.  Thanks for your validation.  \n",
      "\n",
      "\n",
      "This meaningless statement makes YOU look bad.\n",
      "\n",
      "\n",
      "total of example removed: \n",
      "919\n",
      "14341\n"
     ]
    }
   ],
   "source": [
    "print (\"Some example of text with 50 characters: \")\n",
    "idx = [i for i,x in enumerate(len_text) if x == 50]\n",
    "l =[print(data_set.data[i]) for i in idx]\n",
    "print (\"total of example removed: \")\n",
    "n_removed = len([i for i in len_text if i < 50])\n",
    "print (n_removed)\n",
    "\n",
    "text, target = data_set.data, data_set.target\n",
    "init_len = len(text)\n",
    "text = []\n",
    "target = []\n",
    "for i in range(len(data_set.data)):\n",
    "    if len(data_set.data[i]) >= 50:\n",
    "        text.append(data_set.data[i])\n",
    "        target.append(data_set.target[i])\n",
    "assert init_len - len(text) == n_removed # make sure deletion is right\n",
    "\n",
    "X_train, X_test, y_train, y_test = train_test_split(text, target, test_size = 0.2, random_state = 10)\n",
    "print (len(X_train))"
   ]
  },
  {
   "cell_type": "markdown",
   "metadata": {},
   "source": [
    "Next, the text is transformed into a Term Frequency–Inverse Document Frequency (tf-idf) vectors and Multinormial Naive Bayes and SVM were test."
   ]
  },
  {
   "cell_type": "code",
   "execution_count": 102,
   "metadata": {
    "scrolled": true
   },
   "outputs": [
    {
     "name": "stdout",
     "output_type": "stream",
     "text": [
      "MultinomialNB: 0.7007808142777467\n"
     ]
    },
    {
     "name": "stderr",
     "output_type": "stream",
     "text": [
      "/home/bangbangjim/anaconda3/lib/python3.6/site-packages/sklearn/linear_model/stochastic_gradient.py:128: FutureWarning: max_iter and tol parameters have been added in <class 'sklearn.linear_model.stochastic_gradient.SGDClassifier'> in 0.19. If both are left unset, they default to max_iter=5 and tol=None. If tol is not None, max_iter defaults to max_iter=1000. From 0.21, default max_iter will be 1000, and default tol will be 1e-3.\n",
      "  \"and default tol will be 1e-3.\" % type(self), FutureWarning)\n"
     ]
    },
    {
     "name": "stdout",
     "output_type": "stream",
     "text": [
      "SVM (SGD): 0.800334634690463\n"
     ]
    }
   ],
   "source": [
    "tfidf  = TfidfVectorizer()\n",
    "Mn_clf = Pipeline([('tfidf', TfidfVectorizer()),\n",
    "                      ('clf', MultinomialNB())])\n",
    "Mn_clf = Mn_clf.fit(X_train, y_train)\n",
    "print (\"MultinomialNB: \" + str(Mn_clf.score(X_test, y_test)))\n",
    "\n",
    "#Gaussian commented out because it's too slow (need to transform to dense vector)\n",
    "# G_clf = Pipeline([('tfidf', TfidfVectorizer()), \n",
    "#                   ('to_dense', FunctionTransformer(lambda x: x.todense(), accept_sparse = True)),\n",
    "#                       ('clf', GaussianNB())])\n",
    "# G_clf = G_clf.fit(train_set.data, train_set.target)\n",
    "# print (\"GausianNB: \" + str(G_clf.score(test_set.data, test_set.target)))\n",
    "\n",
    "SVM_clf = Pipeline([(\"tfidf\", TfidfVectorizer()),\n",
    "                    (\"SGDClassifier\", SGDClassifier())])\n",
    "SVM_clf.fit(X_train, y_train)\n",
    "\n",
    "print (\"SVM (SGD): \" + str(SVM_clf.score(X_test, y_test)))"
   ]
  },
  {
   "cell_type": "markdown",
   "metadata": {},
   "source": [
    "Now it can be seen that SVM perform a lot better than a MultinomialNB does I decided to stick with tuning the hyperparameters of the SVM model with GridSearchCV.\n",
    "\n",
    "Notice that 5-fold CV is already performed during the GridSearch. The best estimator is refitted in the end (refit = True), so that it is retrained with the entire training data (no validation set)."
   ]
  },
  {
   "cell_type": "code",
   "execution_count": 106,
   "metadata": {},
   "outputs": [
    {
     "name": "stderr",
     "output_type": "stream",
     "text": [
      "/home/bangbangjim/anaconda3/lib/python3.6/site-packages/sklearn/linear_model/stochastic_gradient.py:128: FutureWarning: max_iter and tol parameters have been added in <class 'sklearn.linear_model.stochastic_gradient.SGDClassifier'> in 0.19. If both are left unset, they default to max_iter=5 and tol=None. If tol is not None, max_iter defaults to max_iter=1000. From 0.21, default max_iter will be 1000, and default tol will be 1e-3.\n",
      "  \"and default tol will be 1e-3.\" % type(self), FutureWarning)\n",
      "/home/bangbangjim/anaconda3/lib/python3.6/site-packages/sklearn/linear_model/stochastic_gradient.py:128: FutureWarning: max_iter and tol parameters have been added in <class 'sklearn.linear_model.stochastic_gradient.SGDClassifier'> in 0.19. If both are left unset, they default to max_iter=5 and tol=None. If tol is not None, max_iter defaults to max_iter=1000. From 0.21, default max_iter will be 1000, and default tol will be 1e-3.\n",
      "  \"and default tol will be 1e-3.\" % type(self), FutureWarning)\n",
      "/home/bangbangjim/anaconda3/lib/python3.6/site-packages/sklearn/linear_model/stochastic_gradient.py:128: FutureWarning: max_iter and tol parameters have been added in <class 'sklearn.linear_model.stochastic_gradient.SGDClassifier'> in 0.19. If both are left unset, they default to max_iter=5 and tol=None. If tol is not None, max_iter defaults to max_iter=1000. From 0.21, default max_iter will be 1000, and default tol will be 1e-3.\n",
      "  \"and default tol will be 1e-3.\" % type(self), FutureWarning)\n",
      "/home/bangbangjim/anaconda3/lib/python3.6/site-packages/sklearn/linear_model/stochastic_gradient.py:128: FutureWarning: max_iter and tol parameters have been added in <class 'sklearn.linear_model.stochastic_gradient.SGDClassifier'> in 0.19. If both are left unset, they default to max_iter=5 and tol=None. If tol is not None, max_iter defaults to max_iter=1000. From 0.21, default max_iter will be 1000, and default tol will be 1e-3.\n",
      "  \"and default tol will be 1e-3.\" % type(self), FutureWarning)\n",
      "/home/bangbangjim/anaconda3/lib/python3.6/site-packages/sklearn/linear_model/stochastic_gradient.py:128: FutureWarning: max_iter and tol parameters have been added in <class 'sklearn.linear_model.stochastic_gradient.SGDClassifier'> in 0.19. If both are left unset, they default to max_iter=5 and tol=None. If tol is not None, max_iter defaults to max_iter=1000. From 0.21, default max_iter will be 1000, and default tol will be 1e-3.\n",
      "  \"and default tol will be 1e-3.\" % type(self), FutureWarning)\n",
      "/home/bangbangjim/anaconda3/lib/python3.6/site-packages/sklearn/linear_model/stochastic_gradient.py:128: FutureWarning: max_iter and tol parameters have been added in <class 'sklearn.linear_model.stochastic_gradient.SGDClassifier'> in 0.19. If both are left unset, they default to max_iter=5 and tol=None. If tol is not None, max_iter defaults to max_iter=1000. From 0.21, default max_iter will be 1000, and default tol will be 1e-3.\n",
      "  \"and default tol will be 1e-3.\" % type(self), FutureWarning)\n"
     ]
    }
   ],
   "source": [
    "SVM_clf = Pipeline([(\"tfidf\", TfidfVectorizer()),\n",
    "                    (\"SGDClassifier\", SGDClassifier())])\n",
    "\n",
    "parameters = {\"tfidf__ngram_range\": [(1,1), (1,2)],\n",
    "              \"tfidf__max_df\": [0.3,0.5,1.0],\n",
    "              \"tfidf__max_features\": [None, 25000],\n",
    "              \"tfidf__min_df\": [5, 10],\n",
    "             \"tfidf__stop_words\": [\"english\", None],\n",
    "              \"SGDClassifier__alpha\": [0.0001, 0.0002]}\n",
    "\n",
    "\n",
    "SVM_clf_gs = GridSearchCV(SVM_clf, parameters, n_jobs = -1, refit = True, cv = 5)\n",
    "SVM_clf_gs = SVM_clf_gs.fit(X_train, y_train)\n",
    "\n"
   ]
  },
  {
   "cell_type": "code",
   "execution_count": 148,
   "metadata": {},
   "outputs": [
    {
     "name": "stdout",
     "output_type": "stream",
     "text": [
      "best CV score: 0.7468\n",
      "best parameters: {'SGDClassifier__alpha': 0.0001, 'tfidf__max_df': 0.5, 'tfidf__max_features': None, 'tfidf__min_df': 5, 'tfidf__ngram_range': (1, 2), 'tfidf__stop_words': 'english'}\n",
      "test score: 0.7524700988039521\n"
     ]
    }
   ],
   "source": [
    "print (\"best CV score: \" + str(SVM_clf_gs.best_score_))\n",
    "print (\"best parameters: \" + str(SVM_clf_gs.best_params_))\n",
    "print(\"test score: \" + str(SVM_clf_gs.score(X_test, y_test)))"
   ]
  },
  {
   "cell_type": "markdown",
   "metadata": {},
   "source": [
    "Notice how the test score is slightly higher that the CV score, this could be a result of the fact that the CV score is an averaged out score, where there could be a high variance in each of the individual CV score. Also, the model is refitted to the entire dataset, which can result in a better performance.\n",
    "\n",
    "Next K-mean clustering and K-nearest neighbor is also tested, since unsupervised learning is involved, for simiplicity sake, I have started this task with only 2 catagories of data so it is easier to compare performances between the models (using accuracy)."
   ]
  },
  {
   "cell_type": "code",
   "execution_count": 127,
   "metadata": {},
   "outputs": [],
   "source": [
    "from sklearn.metrics import homogeneity_completeness_v_measure\n",
    "#\n",
    "def scoring(clf, train_x, test_x, train_y, test_y):\n",
    "    name = clf[0]\n",
    "    clf = clf[1]\n",
    "    if name != \"KMEANS\":\n",
    "        clf.fit(train_x, train_y)\n",
    "        return (name + \" accuracy: \" + str(clf.score(test_x, test_y)) )\n",
    "    else:\n",
    "        clf = clf.fit(train_x)\n",
    "        acc = str(max(np.mean(clf.predict(test_x) == test_y), 1- np.mean(clf.predict(test_x) == test_y)))\n",
    "        hcv = homogeneity_completeness_v_measure(test_y, clf.predict(test_x))\n",
    "        return (\"{0} accuracy: {1}, homo: {2}, comp: {3}, vm: {4}\".format(name, acc, *hcv))"
   ]
  },
  {
   "cell_type": "code",
   "execution_count": 112,
   "metadata": {},
   "outputs": [
    {
     "name": "stdout",
     "output_type": "stream",
     "text": [
      "1618\n",
      "1538\n",
      "SVM accuracy: 0.9253246753246753\n"
     ]
    },
    {
     "name": "stderr",
     "output_type": "stream",
     "text": [
      "/home/bangbangjim/anaconda3/lib/python3.6/site-packages/sklearn/linear_model/stochastic_gradient.py:128: FutureWarning: max_iter and tol parameters have been added in <class 'sklearn.linear_model.stochastic_gradient.SGDClassifier'> in 0.19. If both are left unset, they default to max_iter=5 and tol=None. If tol is not None, max_iter defaults to max_iter=1000. From 0.21, default max_iter will be 1000, and default tol will be 1e-3.\n",
      "  \"and default tol will be 1e-3.\" % type(self), FutureWarning)\n"
     ]
    },
    {
     "name": "stdout",
     "output_type": "stream",
     "text": [
      "KMEANS accuracy: 0.762987012987013, homo: 0.23602164328037573, comp: 0.35654418939491794, vm: 0.28402631688408747\n",
      "K-nearest accuracy: 0.6428571428571429\n"
     ]
    }
   ],
   "source": [
    "from sklearn.neighbors import KNeighborsClassifier\n",
    "from sklearn.cluster import KMeans\n",
    "#import only two classes of data\n",
    "cats = [\"rec.autos\", 'talk.religion.misc']\n",
    "data_set = fetch_20newsgroups(subset = \"all\", shuffle = True, remove = (\"headers\", \"footers\", \"quotes\"), categories = cats)\n",
    "text, target = data_set.data, data_set.target\n",
    "print (len(text))\n",
    "text = []\n",
    "target = []\n",
    "for i in range(len(data_set.data)):\n",
    "    if len(data_set.data[i]) > 10:\n",
    "        text.append(data_set.data[i])\n",
    "        target.append(data_set.target[i])\n",
    "print (len(text)) \n",
    "vectors = TfidfVectorizer(ngram_range = (1,2), max_df = 0.5, min_df = 5, stop_words = \"english\")\n",
    "features = vectors.fit_transform(text)\n",
    "\n",
    "clfs = {\"SVM\": SGDClassifier(random_state  = 10, alpha = 0.0001), \n",
    "        \"KMEANS\": KMeans(n_clusters = 2, n_jobs = -1, random_state = 10),\n",
    "        \"K-nearest\": KNeighborsClassifier()}\n",
    "\n",
    "for clf in clfs.items():\n",
    "    print (scoring(clf, *train_test_split(features, target, test_size = 0.2, random_state = 10)))"
   ]
  },
  {
   "cell_type": "markdown",
   "metadata": {},
   "source": [
    "It can be seen that SVM by far outperformed K-nearest neighbour and K-mean clustering. \n",
    "\n",
    "Next I am going to attempt to change the vector representation of each text from being a bag of Tf-idf values to a vector derived by averaging the GloVE vectors of its corresponding words. Hopefully, the semantic relationship that GloVE vectors are able to represent will help the data cluster better in the feature space."
   ]
  },
  {
   "cell_type": "code",
   "execution_count": 113,
   "metadata": {},
   "outputs": [],
   "source": [
    "import spacy\n",
    "nlp = spacy.load(\"en_core_web_lg\")"
   ]
  },
  {
   "cell_type": "code",
   "execution_count": 114,
   "metadata": {},
   "outputs": [
    {
     "name": "stdout",
     "output_type": "stream",
     "text": [
      "SVM accuracy: 0.9512987012987013\n"
     ]
    },
    {
     "name": "stderr",
     "output_type": "stream",
     "text": [
      "/home/bangbangjim/anaconda3/lib/python3.6/site-packages/sklearn/linear_model/stochastic_gradient.py:128: FutureWarning: max_iter and tol parameters have been added in <class 'sklearn.linear_model.stochastic_gradient.SGDClassifier'> in 0.19. If both are left unset, they default to max_iter=5 and tol=None. If tol is not None, max_iter defaults to max_iter=1000. From 0.21, default max_iter will be 1000, and default tol will be 1e-3.\n",
      "  \"and default tol will be 1e-3.\" % type(self), FutureWarning)\n"
     ]
    },
    {
     "name": "stdout",
     "output_type": "stream",
     "text": [
      "KMEANS accuracy: 0.8701298701298701, homo: 0.44902065783126033, comp: 0.438862836746917, vm: 0.44388364207043585\n",
      "K-nearest accuracy: 0.9383116883116883\n"
     ]
    }
   ],
   "source": [
    "from nltk.corpus import stopwords\n",
    "sws = set(stopwords.words(\"english\")) \n",
    "text = [\" \".join([word.text for word in nlp(t) if word.text not in sws]) for t in text] #remove stopwords\n",
    "vectors = [nlp(t).vector for t in text]\n",
    "\n",
    "clfs = {\"SVM\": SGDClassifier(random_state  = 10, alpha = 0.0001), \n",
    "        \"KMEANS\": KMeans(n_clusters = 2, n_jobs = -1, random_state = 10),\n",
    "        \"K-nearest\": KNeighborsClassifier()}\n",
    "\n",
    "for clf in clfs.items():\n",
    "    print (scoring(clf, *train_test_split(vectors, target, test_size = 0.2, random_state = 10)))"
   ]
  },
  {
   "cell_type": "markdown",
   "metadata": {},
   "source": [
    "Accuracy on all models seems to have drastically improved, especially with the K-nearest neighbout and Kmeans clustering.\n",
    "\n",
    "Finally, I want to be more specific in what is used to computed the vectors for each body of text. For example, if a human were given a task to classify the text's category, it might be intuitive for a human to pay more attention to the noun in the text, as they are most indicative of what the category is. Similarly, if we were doing sentiment analysis, it would be intuitive to focus more on the adjective words.\n",
    "\n",
    "Therefore, only the GloVE vector of the noun chunks were used to compute the vector representation of the text:"
   ]
  },
  {
   "cell_type": "code",
   "execution_count": 115,
   "metadata": {},
   "outputs": [
    {
     "name": "stdout",
     "output_type": "stream",
     "text": [
      "SVM accuracy: 0.9285714285714286\n"
     ]
    },
    {
     "name": "stderr",
     "output_type": "stream",
     "text": [
      "/home/bangbangjim/anaconda3/lib/python3.6/site-packages/sklearn/linear_model/stochastic_gradient.py:128: FutureWarning: max_iter and tol parameters have been added in <class 'sklearn.linear_model.stochastic_gradient.SGDClassifier'> in 0.19. If both are left unset, they default to max_iter=5 and tol=None. If tol is not None, max_iter defaults to max_iter=1000. From 0.21, default max_iter will be 1000, and default tol will be 1e-3.\n",
      "  \"and default tol will be 1e-3.\" % type(self), FutureWarning)\n"
     ]
    },
    {
     "name": "stdout",
     "output_type": "stream",
     "text": [
      "KMEANS accuracy: 0.9058441558441559, homo: 0.5412801758111346, comp: 0.5380345075451398, vm: 0.5396524615617748\n",
      "K-nearest accuracy: 0.9415584415584416\n"
     ]
    }
   ],
   "source": [
    "text = [\" \".join([chunk.text for chunk in nlp(t).noun_chunks if chunk.text not in sws]) for t in text]\n",
    "vectors = [nlp(t).vector for t in text]\n",
    "\n",
    "clfs = {\"SVM\": SGDClassifier(random_state  = 10, alpha = 0.0001), \n",
    "        \"KMEANS\": KMeans(n_clusters = 2, n_jobs = -1, random_state = 10),\n",
    "        \"K-nearest\": KNeighborsClassifier()}\n",
    "\n",
    "for clf in clfs.items():\n",
    "    print (scoring(clf, *train_test_split(vectors, target, test_size = 0.2, random_state = 10)))"
   ]
  },
  {
   "cell_type": "markdown",
   "metadata": {},
   "source": [
    "Again, we were able to push the accuracy of Kmeans and K-nearest neighbour a little bit higher, although SVM's performance slight decreases. \n",
    "\n",
    "Nonetheless, all three models now reaches an above 90% accuracy. Their performances is better illustrated from the below bar chart."
   ]
  },
  {
   "cell_type": "code",
   "execution_count": 119,
   "metadata": {},
   "outputs": [
    {
     "data": {
      "image/png": "[encoded data removed]",
      "text/plain": [
       "<Figure size 432x288 with 1 Axes>"
      ]
     },
     "metadata": {},
     "output_type": "display_data"
    }
   ],
   "source": [
    "import matplotlib.pyplot as plt\n",
    "plt.figure()\n",
    "\n",
    "SVM= [ 0.925, 0.951, 0.929]\n",
    "KMEANS = [0.763,0.870, 0.906]\n",
    "Kn = [0.643, 0.938, 0.942]\n",
    "index = np.arange(3)\n",
    "xt = [\"td-idf\", \"GloVE (general)\", \"GloVE (noun chunks)\"]\n",
    "bar_width = 0.2\n",
    "\n",
    "rect1 = plt.bar(index, SVM, bar_width, label = \"SVM\")\n",
    "rect2 = plt.bar(index+bar_width, KMEANS, bar_width, label = \"Kmeans\")\n",
    "rect3 = plt.bar(index+2*bar_width, Kn, bar_width, label = \"K-NN\")\n",
    "plt.xticks(index+bar_width, xt, rotation = 45)\n",
    "plt.legend()\n",
    "plt.ylim(0,1.5)\n",
    "plt.ylabel(\"accuracy\")\n",
    "# plt.grid()\n",
    "plt.show()\n"
   ]
  }
 ],
 "metadata": {
  "kernelspec": {
   "display_name": "Python 3",
   "language": "python",
   "name": "python3"
  },
  "language_info": {
   "codemirror_mode": {
    "name": "ipython",
    "version": 3
   },
   "file_extension": ".py",
   "mimetype": "text/x-python",
   "name": "python",
   "nbconvert_exporter": "python",
   "pygments_lexer": "ipython3",
   "version": "3.6.4"
  }
 },
 "nbformat": 4,
 "nbformat_minor": 2
}
